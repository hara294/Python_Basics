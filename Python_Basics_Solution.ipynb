{
  "nbformat": 4,
  "nbformat_minor": 0,
  "metadata": {
    "colab": {
      "provenance": []
    },
    "kernelspec": {
      "name": "python3",
      "display_name": "Python 3"
    },
    "language_info": {
      "name": "python"
    }
  },
  "cells": [
    {
      "cell_type": "markdown",
      "source": [
        "1.What is Python, and why is it popular?\n",
        "\n",
        "->Python is  high-level, object-oriented programming language.\n",
        "It is popular because of following reasons:\n",
        "\n",
        " -Easy to learn and write\n",
        " -Versatile\n",
        " -Free and open-source\n",
        " -Versatile and Extensible\n",
        " -Multi-platform\n",
        "\n",
        " 2.What is an interpreter in Python?\n",
        "\n",
        " ->Interpreter is a computer program that converts the python code into machine code, so that the computer can execute it.\n",
        "\n",
        " 3.What are pre-defined keywords in Python?\n",
        "\n",
        " ->if, else, elif, for, while, True, False, return, type are some of the pre-defined keywords in python.\n",
        "\n",
        " 4.Can keywords be used as variable names?\n",
        "\n",
        " ->No, keywords cannot be used as variable names.\n",
        "\n",
        " 5.What is mutability in Python?\n",
        "\n",
        " -> Mutability refers to the ability of an object to be changed after it has been created.\n",
        "\n",
        " 6.Why are lists mutable, but tuples are immutable?\n",
        "\n",
        " ->Tuples can't be changed after they're created, but lists can be modified. Additionally, tuples are more memory-efficient compared to lists.\n",
        "\n",
        " 7.What is the difference between == and is operators in Python?\n",
        "\n",
        " -> == checks if the values are equal.\n",
        "    is checks if the objects have same memory location.\n",
        "\n",
        "8.What are logical operators in Python?\n",
        "\n",
        "-> and, or, not are different logical operators and return True and False in output.\n",
        "\n",
        "9.What is type casting in Python?\n",
        "\n",
        "->Type casting converts one data type to another.\n",
        "\n",
        "10.What is the difference between implicit and explicit type casting?\n",
        "\n",
        "-> Implicit:Automatically done by Python.\n",
        "   Explicit:Manually done by using functions like int(), float() etc.\n",
        "\n",
        "11.What is the purpose of conditional statements in Python?\n",
        "\n",
        "->Conditional statements allow decisions to be made in a program based on conditions. Examples include if, elif, and else.\n",
        "\n",
        "12.How does the elif statement work?\n",
        "\n",
        "->The “elif”, stands for “else if”. It can be used in conditional statements to check for multiple conditions. For example, if the first condition is false, it moves on to the next “elif” statement to check if that condition is true or not.\n",
        "\n",
        "13.What is the difference between for and while loops?\n",
        "\n",
        "->for loop is used when the number of iteration is known.\n",
        "while loop continues as long as the conditions is True.\n",
        "\n",
        "14.Describe a scenario where a while loop is more suitable than a for loop.\n",
        "\n",
        "->A while loop is better when the number of iteration is unknown."
      ],
      "metadata": {
        "id": "ZK7R_wNcGdLS"
      }
    },
    {
      "cell_type": "code",
      "source": [
        "#1.Write a Python program to print \"Hello, World!\n",
        "print(\"Hello,world\")"
      ],
      "metadata": {
        "colab": {
          "base_uri": "https://localhost:8080/"
        },
        "id": "EnG_lk11PcHX",
        "outputId": "7df58789-c442-4f9b-8165-8087de2a83fe"
      },
      "execution_count": null,
      "outputs": [
        {
          "output_type": "stream",
          "name": "stdout",
          "text": [
            "Hello,world\n"
          ]
        }
      ]
    },
    {
      "cell_type": "code",
      "source": [
        "#2.Write a Python program that displays your name and age\n",
        "name = input(\"Enter your name: \")\n",
        "age = int(input(\"Enter Your age: \"))\n",
        "print(\"Name: \", name)\n",
        "print(\"Age: \", age)"
      ],
      "metadata": {
        "colab": {
          "base_uri": "https://localhost:8080/"
        },
        "id": "qZJ3M5fVPcnc",
        "outputId": "76d23ce2-04ed-4049-d125-0b408f10dd0d"
      },
      "execution_count": null,
      "outputs": [
        {
          "output_type": "stream",
          "name": "stdout",
          "text": [
            "Enter your name: Hara\n",
            "Enter Your age: 20\n",
            "Name:  Hara\n",
            "Age:  20\n"
          ]
        }
      ]
    },
    {
      "cell_type": "code",
      "source": [
        "# 3.Write code to print all the pre-defined keywords in Python using the\n",
        "# keyword library\n",
        "import keyword\n",
        "print(keyword.kwlist)"
      ],
      "metadata": {
        "colab": {
          "base_uri": "https://localhost:8080/"
        },
        "id": "Alx_L8hZPc6f",
        "outputId": "bbd77015-4154-4744-976b-fea94a14d781"
      },
      "execution_count": null,
      "outputs": [
        {
          "output_type": "stream",
          "name": "stdout",
          "text": [
            "['False', 'None', 'True', 'and', 'as', 'assert', 'async', 'await', 'break', 'class', 'continue', 'def', 'del', 'elif', 'else', 'except', 'finally', 'for', 'from', 'global', 'if', 'import', 'in', 'is', 'lambda', 'nonlocal', 'not', 'or', 'pass', 'raise', 'return', 'try', 'while', 'with', 'yield']\n"
          ]
        }
      ]
    },
    {
      "cell_type": "code",
      "source": [
        "#4.Write a program that checks if a given word is a Python keyword\n",
        "import keyword\n",
        "word = input(\"Enter any word: \")\n",
        "if keyword.iskeyword(word):\n",
        "    print(word, \"is a keyword\")\n",
        "else:\n",
        "    print(word, \"is not a keyword\")"
      ],
      "metadata": {
        "colab": {
          "base_uri": "https://localhost:8080/"
        },
        "id": "153IA3XkPdCU",
        "outputId": "f65af80a-9dea-4bce-e274-62b02388589f"
      },
      "execution_count": 1,
      "outputs": [
        {
          "output_type": "stream",
          "name": "stdout",
          "text": [
            "Enter any word: hsfd\n",
            "hsfd is not a keyword\n"
          ]
        }
      ]
    },
    {
      "cell_type": "code",
      "source": [
        "#5.Create a list and tuple in Python, and demonstrate how attempting to change\n",
        "#  an element works differently for each\n",
        "My_list = [1,2,3,4,5]\n",
        "print(\"the original list\", My_list)\n",
        "My_tuple = (1,2,3,4,5)\n",
        "My_list[0] = 10\n",
        "print(\"the modified list\", My_list)\n"
      ],
      "metadata": {
        "colab": {
          "base_uri": "https://localhost:8080/"
        },
        "id": "eUh9w2UsPdKO",
        "outputId": "588592eb-56cf-4d7f-8710-91a9589e7f29"
      },
      "execution_count": null,
      "outputs": [
        {
          "output_type": "stream",
          "name": "stdout",
          "text": [
            "the original list [1, 2, 3, 4, 5]\n",
            "the modified list [10, 2, 3, 4, 5]\n"
          ]
        }
      ]
    },
    {
      "cell_type": "code",
      "source": [
        "My_tuple[0] = 10 #tuples can not be edited thats why is showing an error"
      ],
      "metadata": {
        "colab": {
          "base_uri": "https://localhost:8080/",
          "height": 141
        },
        "id": "ugLAMQfSPdTX",
        "outputId": "d940cd4b-2131-4e27-ee72-e1e74cf807bd"
      },
      "execution_count": null,
      "outputs": [
        {
          "output_type": "error",
          "ename": "TypeError",
          "evalue": "'tuple' object does not support item assignment",
          "traceback": [
            "\u001b[0;31m---------------------------------------------------------------------------\u001b[0m",
            "\u001b[0;31mTypeError\u001b[0m                                 Traceback (most recent call last)",
            "\u001b[0;32m<ipython-input-12-60fb3b7ef815>\u001b[0m in \u001b[0;36m<cell line: 1>\u001b[0;34m()\u001b[0m\n\u001b[0;32m----> 1\u001b[0;31m \u001b[0mMy_tuple\u001b[0m\u001b[0;34m[\u001b[0m\u001b[0;36m0\u001b[0m\u001b[0;34m]\u001b[0m \u001b[0;34m=\u001b[0m \u001b[0;36m10\u001b[0m\u001b[0;34m\u001b[0m\u001b[0;34m\u001b[0m\u001b[0m\n\u001b[0m",
            "\u001b[0;31mTypeError\u001b[0m: 'tuple' object does not support item assignment"
          ]
        }
      ]
    },
    {
      "cell_type": "code",
      "source": [
        "#6.Write a function to demonstrate the behavior of mutable and immutable arguments\n",
        "def modify_arguments(mutable_list, immutable_string):\n",
        "    mutable_list.append(4)\n",
        "    immutable_string += \" World!\"\n",
        "    print(\"Inside function:\")\n",
        "    print(\"Mutable List:\", mutable_list)\n",
        "    print(\"Immutable String:\", immutable_string)\n",
        "\n",
        "my_list = [1, 2, 3]\n",
        "my_string = \"Hello\"\n",
        "\n",
        "print(\"Before function call:\")\n",
        "print(\"Mutable List:\", my_list)\n",
        "print(\"Immutable String:\", my_string)\n",
        "\n",
        "modify_arguments(my_list, my_string)\n",
        "\n",
        "print(\"After function call:\")\n",
        "print(\"Mutable List:\", my_list)\n",
        "print(\"Immutable String:\", my_string)\n"
      ],
      "metadata": {
        "colab": {
          "base_uri": "https://localhost:8080/"
        },
        "id": "wsnQmWiOPddG",
        "outputId": "f9a8d0e0-a576-4107-b018-f39d8a576b4c"
      },
      "execution_count": null,
      "outputs": [
        {
          "output_type": "stream",
          "name": "stdout",
          "text": [
            "Before function call:\n",
            "Mutable List: [1, 2, 3]\n",
            "Immutable String: Hello\n",
            "Inside function:\n",
            "Mutable List: [1, 2, 3, 4]\n",
            "Immutable String: Hello World!\n",
            "After function call:\n",
            "Mutable List: [1, 2, 3, 4]\n",
            "Immutable String: Hello\n"
          ]
        }
      ]
    },
    {
      "cell_type": "code",
      "source": [
        "#8.Write a function to demonstrate the behavior of mutable and immutable arguments\n",
        "def modify_arguments(mutable_list, immutable_string):\n",
        "    mutable_list.append(4)\n",
        "    immutable_string += \" World!\"\n",
        "    print(\"Inside function:\")\n",
        "    print(\"Mutable List:\", mutable_list)\n",
        "    print(\"Immutable String:\", immutable_string)\n",
        "\n",
        "my_list = [1, 2, 3]\n",
        "my_string = \"Hello\"\n",
        "\n",
        "print(\"Before function call:\")\n",
        "print(\"Mutable List:\", my_list)\n",
        "print(\"Immutable String:\", my_string)\n",
        "\n",
        "modify_arguments(my_list, my_string)\n",
        "\n",
        "print(\"After function call:\")\n",
        "print(\"Mutable List:\", my_list)\n",
        "print(\"Immutable String:\", my_string)"
      ],
      "metadata": {
        "colab": {
          "base_uri": "https://localhost:8080/"
        },
        "id": "HxND-HEjPdnY",
        "outputId": "232ba3fa-7cc0-4af7-aa01-595ce548fd7d"
      },
      "execution_count": null,
      "outputs": [
        {
          "output_type": "stream",
          "name": "stdout",
          "text": [
            "Inside function:\n",
            "Mutable list: [1, 2, 3, 4]\n",
            "Immutable integer: 11\n",
            "Outside function:\n",
            "Mutable list: [1, 2, 3, 4]\n",
            "Immutable integer: 10\n",
            "Immutable String: Hello\n"
          ]
        }
      ]
    },
    {
      "cell_type": "code",
      "source": [
        "#9.Write a program to demonstrate the use of logical operators.\\\n",
        "a = 10\n",
        "b= 1\n",
        "\n",
        "print(a>5 and b<5) #true\n",
        "print(a>5 or b <= 5) #true\n",
        "print(not(a>5)) #false"
      ],
      "metadata": {
        "colab": {
          "base_uri": "https://localhost:8080/"
        },
        "id": "lzfN9d63Pdw1",
        "outputId": "f02d8735-6b73-4990-f5e6-9c8b6e2a9e19"
      },
      "execution_count": null,
      "outputs": [
        {
          "output_type": "stream",
          "name": "stdout",
          "text": [
            "True\n",
            "True\n",
            "False\n"
          ]
        }
      ]
    },
    {
      "cell_type": "code",
      "source": [
        "# 10.Write a Python program to convert user input from string to\n",
        "#integer, float, and boolean types.\n",
        "userinput = input(\"Enter:\")\n",
        "print(type(userinput))\n",
        "print(int(userinput))\n",
        "print(float(userinput))\n",
        "print(type(float(userinput)))\n",
        "print(bool(userinput))\n",
        "print(type(bool(userinput)))"
      ],
      "metadata": {
        "colab": {
          "base_uri": "https://localhost:8080/"
        },
        "id": "Q4WpBFf1Pd6h",
        "outputId": "9b356ea8-bfb4-4339-c2d6-4e69482d31dd"
      },
      "execution_count": 5,
      "outputs": [
        {
          "output_type": "stream",
          "name": "stdout",
          "text": [
            "Enter: 45\n",
            "<class 'str'>\n",
            "45\n",
            "45.0\n",
            "<class 'float'>\n",
            "True\n",
            "<class 'bool'>\n"
          ]
        }
      ]
    },
    {
      "cell_type": "code",
      "source": [
        "# 10. Write code to demonstrate type casting with list elements\n",
        "my_list = [1,\"1\", \"2\", \"3\", \"4\", \"5\"]\n",
        "print(\"Original List:\", my_list)\n",
        "int_list = [int(x) for x in my_list]\n",
        "print(\"Integer List:\", int_list)\n",
        "float_list = [float(x) for x in my_list]\n",
        "print(\"Float List:\", float_list)"
      ],
      "metadata": {
        "id": "oyPaBuduPeGq",
        "colab": {
          "base_uri": "https://localhost:8080/"
        },
        "outputId": "024926b0-9a4e-46b9-a718-79eed7848cd1"
      },
      "execution_count": 12,
      "outputs": [
        {
          "output_type": "stream",
          "name": "stdout",
          "text": [
            "Original List: [1, '1', '2', '3', '4', '5']\n",
            "Integer List: [1, 1, 2, 3, 4, 5]\n",
            "Float List: [1.0, 1.0, 2.0, 3.0, 4.0, 5.0]\n"
          ]
        }
      ]
    },
    {
      "cell_type": "code",
      "source": [
        "#11. Write a program that checks if a number is positive, negative, or zero.\n",
        "number = int(input(\"Enter a number: \"))\n",
        "if number > 0:\n",
        "  print(\"The number is +ve\")\n",
        "elif number < 0:\n",
        "  print(\"The number is -ve\")\n",
        "else:\n",
        "  print(\"The number is zero\")"
      ],
      "metadata": {
        "id": "QoWmXSY8PeT2",
        "colab": {
          "base_uri": "https://localhost:8080/"
        },
        "outputId": "9091cdb3-ed8c-4695-f59f-adc8231c3c21"
      },
      "execution_count": 17,
      "outputs": [
        {
          "output_type": "stream",
          "name": "stdout",
          "text": [
            "Enter a number: -34\n",
            "The number is -ve\n"
          ]
        }
      ]
    },
    {
      "cell_type": "code",
      "source": [
        "#12. Write a for loop to print numbers from 1 to 10\n",
        "for i in range(1,11):\n",
        "  print(i)"
      ],
      "metadata": {
        "id": "XA9BO7Y4VKUw",
        "colab": {
          "base_uri": "https://localhost:8080/"
        },
        "outputId": "62a0f341-d304-4dae-d36b-ca12b5df485b"
      },
      "execution_count": 22,
      "outputs": [
        {
          "output_type": "stream",
          "name": "stdout",
          "text": [
            "1\n",
            "2\n",
            "3\n",
            "4\n",
            "5\n",
            "6\n",
            "7\n",
            "8\n",
            "9\n",
            "10\n"
          ]
        }
      ]
    },
    {
      "cell_type": "code",
      "source": [
        "#13. Write a Python program to find the sum of all even numbers between 1 and 50\n",
        "sum = 0\n",
        "for i in range(1,51):\n",
        "  if i%2==0:\n",
        "    sum = sum + i\n",
        "print(sum)"
      ],
      "metadata": {
        "id": "ZUG2Fg_OVKMt",
        "colab": {
          "base_uri": "https://localhost:8080/"
        },
        "outputId": "4d0a898c-3a33-44eb-e9a4-b21c9cdf71ca"
      },
      "execution_count": 25,
      "outputs": [
        {
          "output_type": "stream",
          "name": "stdout",
          "text": [
            "650\n"
          ]
        }
      ]
    },
    {
      "cell_type": "code",
      "source": [
        "#14. Write a program to reverse a string using a while loop\n",
        "string = input(\"Enter a string: \")\n",
        "reverse = \"\"\n",
        "length = len(string)\n",
        "while length > 0:\n",
        "  reverse = reverse + string[length - 1]\n",
        "  length = length - 1\n",
        "print(reverse)"
      ],
      "metadata": {
        "colab": {
          "base_uri": "https://localhost:8080/"
        },
        "id": "jEC70KNOf1ke",
        "outputId": "d5e2569c-df17-4d62-ba95-075bd814a9cb"
      },
      "execution_count": 26,
      "outputs": [
        {
          "output_type": "stream",
          "name": "stdout",
          "text": [
            "Enter a string: fdgh\n",
            "hgdf\n"
          ]
        }
      ]
    },
    {
      "cell_type": "code",
      "source": [
        "#15. Write a Python program to calculate the factorial of a number provided\n",
        "#by the user using a while loop\n",
        "number = int(input(\"Enter a number: \"))\n",
        "factorial = 1\n",
        "while number > 0:\n",
        "  factorial = factorial * number\n",
        "  number = number - 1\n",
        "print(factorial)\n"
      ],
      "metadata": {
        "colab": {
          "base_uri": "https://localhost:8080/"
        },
        "id": "2pFwirexf1iD",
        "outputId": "5c11a574-f6f7-4d32-d4ee-2dbc8ff05ab4"
      },
      "execution_count": 29,
      "outputs": [
        {
          "output_type": "stream",
          "name": "stdout",
          "text": [
            "Enter a number: 3\n",
            "6\n"
          ]
        }
      ]
    }
  ]
}